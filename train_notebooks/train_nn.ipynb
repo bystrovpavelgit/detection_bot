{
 "cells": [
  {
   "cell_type": "code",
   "execution_count": 1,
   "metadata": {},
   "outputs": [],
   "source": [
    "from sklearn.metrics import f1_score, accuracy_score\n",
    "import pickle\n",
    "import numpy as np\n",
    "from skimage import io\n",
    "from tqdm import tqdm, tqdm_notebook\n",
    "from PIL import Image\n",
    "from pathlib import Path\n",
    "from collections import OrderedDict\n",
    "from torchvision import transforms\n",
    "from torchvision.models import resnet18\n",
    "from torchvision.models import mobilenet_v2\n",
    "from sklearn.preprocessing import LabelEncoder\n",
    "from torch.utils.data import Dataset, DataLoader\n",
    "from torch.nn import Dropout\n",
    "from torch.nn import Conv1d\n",
    "from torch.nn import BatchNorm1d\n",
    "from torch.nn import BatchNorm2d\n",
    "import torch.nn as nn\n",
    "import torch\n",
    "import torchvision\n",
    "import os, shutil, glob\n",
    "from shutil import copyfile\n",
    "import pandas as pd\n",
    "import matplotlib.patches as patches\n",
    "from matplotlib.font_manager import FontProperties\n",
    "\n",
    "# в sklearn не все гладко, чтобы в colab удобно выводить картинки \n",
    "# мы будем игнорировать warnings\n",
    "import warnings\n",
    "warnings.filterwarnings(action='ignore', category=DeprecationWarning)\n",
    "\n",
    "from matplotlib import colors, pyplot as plt\n",
    "%matplotlib inline"
   ]
  },
  {
   "cell_type": "code",
   "execution_count": 2,
   "metadata": {},
   "outputs": [],
   "source": [
    "# разные режимы датасета \n",
    "DATA_MODES = ['train', 'val', 'test']\n",
    "# все изображения будут масштабированы к размеру 224x224 px\n",
    "RESCALE_SIZE = 224\n",
    "# работаем на видеокарте\n",
    "DEVICE = torch.device(\"cuda\")"
   ]
  },
  {
   "cell_type": "code",
   "execution_count": 3,
   "metadata": {},
   "outputs": [],
   "source": [
    "def save_encoder(file_name, encoder):\n",
    "    with open(file_name, 'wb') as le_dump_file:\n",
    "        pickle.dump(encoder, le_dump_file)\n",
    "    return\n",
    "\n",
    "\n",
    "class BaseDataset(Dataset):\n",
    "    \"\"\"\n",
    "    Датасет с картинками, который паралельно подгружает их из папок\n",
    "    производит скалирование и превращение в торчевые тензоры\n",
    "    \"\"\"\n",
    "    def __init__(self, files, mode, encoder_file='label_encoder.pkl'):\n",
    "        super().__init__()\n",
    "        # список файлов для загрузки\n",
    "        self.files = sorted(files)\n",
    "        # режим работы\n",
    "        self.mode = mode\n",
    "        if self.mode not in DATA_MODES:\n",
    "            print(f\"{self.mode} is not correct; correct modes: {DATA_MODES}\")\n",
    "            raise NameError\n",
    "        self.len_ = len(self.files)\n",
    "        self.label_encoder = LabelEncoder()\n",
    "        if self.mode != 'test':\n",
    "            self.labels = [path.parent.name for path in self.files]\n",
    "            self.label_encoder.fit(self.labels)\n",
    "            save_encoder(encoder_file, self.label_encoder)\n",
    "    \n",
    "    def __len__(self):\n",
    "        return self.len_\n",
    "    \n",
    "    def load_sample(self, file):\n",
    "        image = Image.open(file)\n",
    "        return image\n",
    "    \n",
    "    def __getitem__(self, index):\n",
    "        # для преобразования изображений в тензоры PyTorch и нормализации входа\n",
    "        transform = transforms.Compose([\n",
    "            transforms.ToTensor(),\n",
    "            transforms.Normalize([0.485, 0.456, 0.406], [0.229, 0.224, 0.225]) \n",
    "        ])\n",
    "        x = self.load_sample(self.files[index])\n",
    "        x = self._prepare_sample(x)\n",
    "        x = np.array(x , dtype='float32') / 255.\n",
    "        x = transform(x)\n",
    "        if self.mode == 'test':\n",
    "            return x\n",
    "        else:\n",
    "            label = self.labels[index]\n",
    "            label_id = self.label_encoder.transform([label])\n",
    "            y = label_id.item()\n",
    "            return x, y\n",
    "        \n",
    "    def _prepare_sample(self, image):\n",
    "        w,h = image.size\n",
    "        img0 = image\n",
    "        if (w > h):\n",
    "            img0 = transforms.Pad((0,(w-h)//2,0,w-h-((w-h)//2)))(image)\n",
    "        elif (w < h):\n",
    "            img0 = transforms.Pad(((h-w)//2,0,h-w-((h-w)//2), 0))(image)\n",
    "        w,h = img0.size\n",
    "        if(w == RESCALE_SIZE and h == RESCALE_SIZE):\n",
    "            return img0\n",
    "        return transforms.Resize((RESCALE_SIZE, RESCALE_SIZE))(img0)"
   ]
  },
  {
   "cell_type": "code",
   "execution_count": 4,
   "metadata": {},
   "outputs": [],
   "source": [
    "class TransformedDataset(BaseDataset):\n",
    "    \"\"\"\n",
    "    Датасет с картинками, который паралельно подгружает их из папок\n",
    "    производит скалирование и делает рандом кроп с аугментацией\n",
    "    \"\"\"\n",
    "    def __init__(self, files, mode, encoder_file='label_encoder.pkl'):\n",
    "        super().__init__(files, mode, encoder_file)\n",
    "        return\n",
    "\n",
    "\n",
    "    def __len__(self):\n",
    "        return self.len_\n",
    "\n",
    "\n",
    "    def load_sample(self, file):\n",
    "        image = Image.open(file)\n",
    "        #image.load()\n",
    "        return image\n",
    "    \n",
    "    def __getitem__(self, index):\n",
    "        # для преобразования изображений в тензоры PyTorch и нормализации входа\n",
    "        transform = transforms.Compose([\n",
    "            transforms.ToTensor(),\n",
    "            transforms.Normalize([0.485, 0.456, 0.406], [0.229, 0.224, 0.225]) \n",
    "        ])\n",
    "        x = self.load_sample(self.files[index])\n",
    "        hh = max(0, int(np.random.randn()*22.))\n",
    "        hh = hh if(hh*10 < RESCALE_SIZE) else 22\n",
    "        if(hh > 0):\n",
    "            x = transforms.RandomCrop((RESCALE_SIZE-hh,RESCALE_SIZE-hh))(x)\n",
    "            x = transforms.RandomApply((transforms.RandomHorizontalFlip(), \n",
    "                                        transforms.RandomAffine(degrees=75, scale=(0.7, 1.1), shear=0.2)), p=0.8)(x)\n",
    "            x = transforms.Resize((RESCALE_SIZE, RESCALE_SIZE))(x)\n",
    "        x = np.array(x, dtype='float32')/ 255.0\n",
    "        x = transform(x)\n",
    "        if self.mode == 'test':\n",
    "            return x\n",
    "        else:\n",
    "            label = self.labels[index]\n",
    "            label_id = self.label_encoder.transform([label])\n",
    "            y = label_id.item()\n",
    "            return x, y\n",
    "        \n"
   ]
  },
  {
   "cell_type": "code",
   "execution_count": 6,
   "metadata": {},
   "outputs": [],
   "source": [
    "def imshow(inp, title=None, plt_ax=plt, default=False):\n",
    "    \"\"\"Imshow для тензоров\"\"\"\n",
    "    inp = inp.numpy().transpose((1, 2, 0))\n",
    "    mean = np.array([0.485, 0.456, 0.406])\n",
    "    std = np.array([0.229, 0.224, 0.225])\n",
    "    inp = std * inp + mean\n",
    "    inp = np.clip(inp, 0, 1)\n",
    "    plt_ax.imshow(inp)\n",
    "    if title is not None:\n",
    "        plt_ax.set_title(title)\n",
    "    plt_ax.grid(False)"
   ]
  },
  {
   "cell_type": "code",
   "execution_count": 8,
   "metadata": {},
   "outputs": [],
   "source": [
    "%matplotlib inline\n",
    "import numpy as np\n",
    "import matplotlib\n",
    "from matplotlib import pyplot as plt\n",
    "from IPython.display import clear_output\n",
    "import torch\n",
    "from torch import nn\n",
    "from torch.utils.data import Dataset, DataLoader\n",
    "from sklearn.metrics import f1_score, accuracy_score\n",
    "from tqdm import tqdm, tqdm_notebook\n",
    "from torch.optim import SGD\n",
    "from torchvision.models import mobilenet_v2\n",
    "matplotlib.style.use('ggplot')\n",
    "# создаем класс TrainClassifier для тренировки моделей на pytorch\n",
    "\n",
    "\n",
    "def __get_device__(): # получаем устройство\n",
    "    return torch.device(\"cuda\") if torch.cuda.is_available() else torch.device(\"cpu\")\n",
    "\n",
    "\n",
    "def default_lr_schedule():\n",
    "    \"\"\"функция возвращает итератор с 320 значениями learning rate\"\"\"\n",
    "    lrs = [0.002/(1.+0.9*n) for n in np.arange(20)] # range(100)\n",
    "    lrs.extend([0.0002 - (0.0000005*k) for k in np.arange(300)])\n",
    "    return lrs.__iter__()\n",
    "\n",
    "    \n",
    "def mobilenetv2(n_outputs = 2):\n",
    "    simple_cnn = mobilenet_v2(pretrained=False)\n",
    "    simple_cnn.classifier = nn.Sequential(\n",
    "        nn.Dropout(0.2),\n",
    "        nn.BatchNorm1d(1280),\n",
    "        nn.Linear(1280, n_outputs, bias=True))\n",
    "    return simple_cnn\n",
    "\n",
    "\n",
    "def original_mobilenetv2(n_outputs = 12):\n",
    "    simple_cnn = mobilenet_v2(pretrained=True)\n",
    "    simple_cnn.classifier = nn.Sequential(\n",
    "        nn.Dropout(0.2),\n",
    "        nn.Linear(1280, n_outputs, bias=True))\n",
    "    return simple_cnn\n",
    "\n",
    "\n",
    "class TrainClassifier:\n",
    "    \n",
    "    def __init__(self, n_outputs, model:nn.Module = None, criterion = None, batch_size = 64):\n",
    "        self.device = __get_device__()\n",
    "        self.neuralnet = mobilenetv2(n_outputs).to(self.device) if model is None else model.to(self.device)\n",
    "        self.criterion = nn.CrossEntropyLoss() if criterion is None else criterion\n",
    "        self.optimizer = torch.optim.Adam(self.neuralnet.parameters())\n",
    "        self.optimizer_generator = None\n",
    "        self.batch_size = batch_size\n",
    "        self.epochs = 100\n",
    "        self.finalizer = None\n",
    "        self.total_epochs = 0\n",
    "        self.history = []\n",
    "        return\n",
    "\n",
    "\n",
    "    def __optimizer_gen__(self, optimizer_type, lr_schedule):\n",
    "        self.lr = lr_schedule.__next__()\n",
    "        while self.lr is not None:\n",
    "            print('LR = ', self.lr)\n",
    "            yield torch.optim.Adam(self.neuralnet.parameters(), lr = self.lr) if(optimizer_type == 'adam') else torch.optim.SGD(self.neuralnet.parameters(), lr = lr)\n",
    "            self.lr = lr_schedule.__next__()\n",
    "        return\n",
    "\n",
    "\n",
    "    def __fit_once__(self, train_loader):\n",
    "        self.neuralnet.train()\n",
    "        running_loss = 0.0\n",
    "        running_corrects = 0\n",
    "        processed_data = 0\n",
    "        if (self.optimizer_generator is not None):\n",
    "            self.optimizer = self.optimizer_generator.__next__()\n",
    "        k = 0\n",
    "        for inputs, labels in train_loader:\n",
    "            inputs = inputs.to(self.device)\n",
    "            labels = labels.to(self.device)\n",
    "            self.optimizer.zero_grad()\n",
    "            outputs = self.neuralnet(inputs)\n",
    "            loss = self.criterion(outputs, labels)\n",
    "            loss.backward()\n",
    "            self.optimizer.step()\n",
    "            preds = torch.argmax(outputs, 1)\n",
    "            running_loss += loss.item() * inputs.size(0)\n",
    "            running_corrects += torch.sum(preds == labels.data)\n",
    "            processed_data += inputs.size(0)\n",
    "            k += 1\n",
    "            if (k%500 == 0):\n",
    "                print(k)\n",
    "        loss = running_loss / processed_data\n",
    "        acc = running_corrects.cpu().numpy() / processed_data\n",
    "        self.total_epochs += 1\n",
    "        return loss, acc\n",
    "\n",
    "\n",
    "    def __eval_once__(self, val_loader):\n",
    "        running_loss = 0.0\n",
    "        running_corrects = 0\n",
    "        processed_size = 0\n",
    "        for inputs, labels in val_loader:\n",
    "            inputs = inputs.to(self.device)\n",
    "            labels = labels.to(self.device)\n",
    "            self.neuralnet.eval()\n",
    "            with torch.set_grad_enabled(False):\n",
    "                outputs = self.neuralnet(inputs)\n",
    "                loss = self.criterion(outputs, labels)\n",
    "                preds = torch.argmax(outputs, 1)\n",
    "            running_loss += loss.item() * inputs.size(0)\n",
    "            running_corrects += torch.sum(preds == labels.data)\n",
    "            processed_size += inputs.size(0)\n",
    "        loss = running_loss / processed_size\n",
    "        acc = running_corrects.double() / processed_size\n",
    "        return loss, acc.item()\n",
    "\n",
    "\n",
    "    def with_epochs(self, epochs, finalizer=None):\n",
    "        self.epochs = epochs\n",
    "        return self\n",
    "\n",
    "\n",
    "    def with_lr(self, lr, optimizer_type = 'adam'):\n",
    "        self.lr = lr\n",
    "        self.optimizer = torch.optim.Adam(self.neuralnet.parameters(), lr=lr) if(optimizer_type == 'adam') else torch.optim.SGD(self.neuralnet.parameters(), lr=lr)\n",
    "        return self\n",
    "\n",
    "\n",
    "    def with_optimizer(self, optimizer_type, lr_schedule = None):\n",
    "        if(lr_schedule is None):\n",
    "            self.optimizer = torch.optim.Adam(self.neuralnet.parameters()) if(optimizer_type == 'adam') else torch.optim.SGD(self.neuralnet.parameters())\n",
    "        else:\n",
    "            self.lr_schedule = lr_schedule\n",
    "            self.optimizer_generator = self.__optimizer_gen__(optimizer_type, lr_schedule)\n",
    "        return self\n",
    "\n",
    "\n",
    "    def with_metrics(self, metric = 'acc'):\n",
    "        self.metric = 'acc'\n",
    "        return self\n",
    "\n",
    "\n",
    "    #supports only mathplotlib.pyplot\n",
    "    def with_graph(self, graph_type = 'loss_results'):\n",
    "        def draw_func(history):\n",
    "            if (len(history) == 0):\n",
    "                return\n",
    "            loss, res, val_loss, val_res = zip(*history)\n",
    "            plt.figure(figsize=(9, 7))\n",
    "            if (graph_type == 'results'):\n",
    "                plt.plot(res, label=\"train_acc\")\n",
    "                plt.plot(val_res, label=\"val_acc\")\n",
    "                plt.ylabel(\"acc\")\n",
    "            elif (graph_type == 'loss' or graph_type == 'loss_results'):\n",
    "                plt.plot(loss, label=\"train_loss\")\n",
    "                plt.plot(val_loss, label=\"val_loss\")\n",
    "                plt.ylabel(\"loss\")\n",
    "                if (graph_type == 'loss_results'):\n",
    "                    plt.legend(loc='best')\n",
    "                    plt.xlabel(\"epochs\")\n",
    "                    plt.show()\n",
    "                    plt.figure(figsize=(9, 7))\n",
    "                    plt.plot(res, label=\"train_acc\")\n",
    "                    plt.plot(val_res, label=\"val_acc\")\n",
    "                    plt.ylabel(\"acc\")\n",
    "            else:\n",
    "                return\n",
    "            plt.legend(loc='best')\n",
    "            plt.xlabel(\"epochs\")\n",
    "            plt.show()\n",
    "            return\n",
    "\n",
    "        self.draw_fn = draw_func\n",
    "        return self\n",
    "\n",
    "\n",
    "    #terminal operation\n",
    "    def fit(self, train_dataset, val_dataset, enable_tqdm=False):\n",
    "        end_results = []\n",
    "        train_loader = DataLoader(train_dataset, batch_size=self.batch_size, shuffle=True)\n",
    "        val_loader =    DataLoader(val_dataset, batch_size=self.batch_size, shuffle=False)\n",
    "        log_template = \"\\nEpoch {ep:03d} train loss: {t_loss:0.4f} valid loss {v_loss:0.4f} train acc {t_acc:0.4f} valid acc {v_acc:0.4f}\"\n",
    "        def display_results(train_loss, train_acc, val_loss, val_acc, epoch, pbar, log_template):\n",
    "            if (enable_tqdm):\n",
    "                pbar.update(1)\n",
    "                tqdm.write(log_template.format(ep=epoch+1, t_loss=train_loss,v_loss=val_loss, t_acc=train_acc, v_acc=val_acc))\n",
    "            else:\n",
    "                print(log_template.format(ep=epoch+1, t_loss=train_loss, v_loss=val_loss, t_acc=train_acc, v_acc=val_acc))\n",
    "        \n",
    "        \n",
    "        def cycle(pbar):\n",
    "            for epoch in range(self.epochs):\n",
    "                train_loss, train_acc = self.__fit_once__(train_loader)\n",
    "                val_loss, val_acc = self.__eval_once__(val_loader)\n",
    "                end_results.append((train_loss, train_acc, val_loss, val_acc))\n",
    "                display_results(train_loss, train_acc, val_loss, val_acc, epoch, pbar, log_template)\n",
    "        \n",
    "\n",
    "        if (enable_tqdm):\n",
    "            with tqdm(desc=\"epoch\", total=self.epochs) as pbar:\n",
    "                cycle(pbar)\n",
    "        else:\n",
    "            cycle(None)\n",
    "        self.history.extend(end_results)\n",
    "        return end_results\n",
    "\n",
    "\n",
    "    def evaluate(self, val_dataset):    #terminal operation\n",
    "        val_loader = DataLoader(val_dataset, batch_size=self.batch_size, shuffle=False)\n",
    "        return self.__eval_once__(val_loader)\n",
    "\n",
    "\n",
    "    def do_fit(self, train_dataset, val_dataset, enable_tqdm=False):\n",
    "        hist = self.fit(train_dataset, val_dataset, enable_tqdm)\n",
    "        return self\n",
    "\n",
    "\n",
    "    def do_evaluate(self, val_dataset):\n",
    "        val_loader = DataLoader(val_dataset, batch_size=self.batch_size, shuffle=False)\n",
    "        loss, acc = self.__eval_once__(val_loader)\n",
    "        print(\"evaluation loss/acc: \", loss, acc)\n",
    "        return self\n",
    "\n",
    "\n",
    "    def display_history(self):    #terminal operation\n",
    "        if(self.draw_fn is not None):\n",
    "            self.draw_fn(self.history)\n",
    "        return\n",
    "    \n",
    "\n",
    "    def display_model(self):    #terminal operation\n",
    "        print(self.neuralnet)\n",
    "\n",
    "\n",
    "    def display_all(self, print_model = False):    #terminal operation\n",
    "        self.display_history()\n",
    "        if (print_model):\n",
    "            self.display_model()\n",
    "        return\n",
    "\n",
    "\n",
    "    def save_dict(self, name):\n",
    "        torch.save(self.neuralnet.state_dict(), name + '.dict')\n",
    "\n"
   ]
  },
  {
   "cell_type": "code",
   "execution_count": 9,
   "metadata": {},
   "outputs": [],
   "source": [
    "from sklearn.model_selection import train_test_split\n",
    "# Инициализируем датасеты \n",
    "# далее тренируем сеть на основе MobileNet v2\n",
    "# в течении 80 эпох постепенно уменьшая LR\n",
    "torch.manual_seed(17)\n",
    "np.random.seed(17)\n",
    "\n",
    "# скопировал картинки после работы preprocess_img.ipynb в каталог train\n",
    "# из всех картинок перенес с удалением в источнике по 30 картинок из каталогов 0 и 1 в testset\n",
    "TRAIN_DIR = Path('./train')\n",
    "# каталог для test set\n",
    "TEST_DIR = Path('./testset')\n",
    "\n",
    "test_files = sorted(list(TEST_DIR.rglob('*.jpg')))\n",
    "test_dataset = BaseDataset(test_files, mode=\"val\")\n",
    "\n",
    "train_val_files = sorted(list(TRAIN_DIR.rglob('*.jpg')))\n",
    "labels = [path.parent.name for path in train_val_files]\n",
    "\n",
    "#dataset\n",
    "train_files, val_files = train_test_split(train_val_files, test_size=0.15, stratify=labels)\n",
    "train_dataset = TransformedDataset(train_files, mode='train')\n",
    "val_dataset = BaseDataset(val_files, mode='val')\n",
    "val_dataset_a = TransformedDataset(val_files, mode='val')\n"
   ]
  },
  {
   "cell_type": "code",
   "execution_count": 10,
   "metadata": {},
   "outputs": [
    {
     "name": "stderr",
     "output_type": "stream",
     "text": [
      "\r",
      "epoch:   0%|          | 0/80 [00:00<?, ?it/s]"
     ]
    },
    {
     "name": "stdout",
     "output_type": "stream",
     "text": [
      "LR =  0.002\n"
     ]
    },
    {
     "name": "stderr",
     "output_type": "stream",
     "text": [
      "epoch:   1%|▏         | 1/80 [00:41<54:57, 41.74s/it]"
     ]
    },
    {
     "name": "stdout",
     "output_type": "stream",
     "text": [
      "\n",
      "Epoch 001 train loss: 0.4020 valid loss 0.7146 train acc 0.8392 valid acc 0.4900\n",
      "LR =  0.0010526315789473684\n"
     ]
    },
    {
     "name": "stderr",
     "output_type": "stream",
     "text": [
      "epoch:   2%|▎         | 2/80 [01:21<53:22, 41.06s/it]"
     ]
    },
    {
     "name": "stdout",
     "output_type": "stream",
     "text": [
      "\n",
      "Epoch 002 train loss: 0.1923 valid loss 0.1050 train acc 0.9278 valid acc 0.9672\n",
      "LR =  0.0007142857142857144\n"
     ]
    },
    {
     "name": "stderr",
     "output_type": "stream",
     "text": [
      "epoch:   4%|▍         | 3/80 [02:00<52:04, 40.58s/it]"
     ]
    },
    {
     "name": "stdout",
     "output_type": "stream",
     "text": [
      "\n",
      "Epoch 003 train loss: 0.1166 valid loss 0.0934 train acc 0.9581 valid acc 0.9696\n",
      "LR =  0.0005405405405405405\n"
     ]
    },
    {
     "name": "stderr",
     "output_type": "stream",
     "text": [
      "epoch:   5%|▌         | 4/80 [02:40<50:55, 40.21s/it]"
     ]
    },
    {
     "name": "stdout",
     "output_type": "stream",
     "text": [
      "\n",
      "Epoch 004 train loss: 0.0894 valid loss 0.1046 train acc 0.9663 valid acc 0.9576\n",
      "LR =  0.0004347826086956522\n"
     ]
    },
    {
     "name": "stderr",
     "output_type": "stream",
     "text": [
      "epoch:   6%|▋         | 5/80 [03:19<49:58, 39.98s/it]"
     ]
    },
    {
     "name": "stdout",
     "output_type": "stream",
     "text": [
      "\n",
      "Epoch 005 train loss: 0.0862 valid loss 0.0623 train acc 0.9687 valid acc 0.9840\n",
      "LR =  0.00036363636363636367\n"
     ]
    },
    {
     "name": "stderr",
     "output_type": "stream",
     "text": [
      "epoch:   8%|▊         | 6/80 [03:59<49:23, 40.04s/it]"
     ]
    },
    {
     "name": "stdout",
     "output_type": "stream",
     "text": [
      "\n",
      "Epoch 006 train loss: 0.0629 valid loss 0.0455 train acc 0.9801 valid acc 0.9872\n",
      "LR =  0.0003125\n"
     ]
    },
    {
     "name": "stderr",
     "output_type": "stream",
     "text": [
      "epoch:   9%|▉         | 7/80 [04:39<48:37, 39.96s/it]"
     ]
    },
    {
     "name": "stdout",
     "output_type": "stream",
     "text": [
      "\n",
      "Epoch 007 train loss: 0.0598 valid loss 0.0414 train acc 0.9810 valid acc 0.9920\n",
      "LR =  0.00027397260273972606\n"
     ]
    },
    {
     "name": "stderr",
     "output_type": "stream",
     "text": [
      "epoch:  10%|█         | 8/80 [05:19<47:54, 39.92s/it]"
     ]
    },
    {
     "name": "stdout",
     "output_type": "stream",
     "text": [
      "\n",
      "Epoch 008 train loss: 0.0495 valid loss 0.0417 train acc 0.9846 valid acc 0.9880\n",
      "LR =  0.00024390243902439027\n"
     ]
    },
    {
     "name": "stderr",
     "output_type": "stream",
     "text": [
      "epoch:  11%|█▏        | 9/80 [05:59<47:18, 39.98s/it]"
     ]
    },
    {
     "name": "stdout",
     "output_type": "stream",
     "text": [
      "\n",
      "Epoch 009 train loss: 0.0465 valid loss 0.0385 train acc 0.9842 valid acc 0.9912\n",
      "LR =  0.00021978021978021978\n"
     ]
    },
    {
     "name": "stderr",
     "output_type": "stream",
     "text": [
      "epoch:  12%|█▎        | 10/80 [06:38<46:22, 39.75s/it]"
     ]
    },
    {
     "name": "stdout",
     "output_type": "stream",
     "text": [
      "\n",
      "Epoch 010 train loss: 0.0429 valid loss 0.0342 train acc 0.9859 valid acc 0.9920\n",
      "LR =  0.0002\n"
     ]
    },
    {
     "name": "stderr",
     "output_type": "stream",
     "text": [
      "epoch:  14%|█▍        | 11/80 [07:17<45:34, 39.63s/it]"
     ]
    },
    {
     "name": "stdout",
     "output_type": "stream",
     "text": [
      "\n",
      "Epoch 011 train loss: 0.0434 valid loss 0.0265 train acc 0.9873 valid acc 0.9952\n",
      "LR =  0.0001834862385321101\n"
     ]
    },
    {
     "name": "stderr",
     "output_type": "stream",
     "text": [
      "epoch:  15%|█▌        | 12/80 [07:57<44:52, 39.59s/it]"
     ]
    },
    {
     "name": "stdout",
     "output_type": "stream",
     "text": [
      "\n",
      "Epoch 012 train loss: 0.0362 valid loss 0.0300 train acc 0.9880 valid acc 0.9936\n",
      "LR =  0.0001694915254237288\n"
     ]
    },
    {
     "name": "stderr",
     "output_type": "stream",
     "text": [
      "epoch:  16%|█▋        | 13/80 [08:37<44:16, 39.64s/it]"
     ]
    },
    {
     "name": "stdout",
     "output_type": "stream",
     "text": [
      "\n",
      "Epoch 013 train loss: 0.0379 valid loss 0.0281 train acc 0.9867 valid acc 0.9944\n",
      "LR =  0.00015748031496062991\n"
     ]
    },
    {
     "name": "stderr",
     "output_type": "stream",
     "text": [
      "epoch:  18%|█▊        | 14/80 [09:16<43:33, 39.59s/it]"
     ]
    },
    {
     "name": "stdout",
     "output_type": "stream",
     "text": [
      "\n",
      "Epoch 014 train loss: 0.0349 valid loss 0.0248 train acc 0.9870 valid acc 0.9928\n",
      "LR =  0.00014705882352941178\n"
     ]
    },
    {
     "name": "stderr",
     "output_type": "stream",
     "text": [
      "epoch:  19%|█▉        | 15/80 [09:56<42:55, 39.63s/it]"
     ]
    },
    {
     "name": "stdout",
     "output_type": "stream",
     "text": [
      "\n",
      "Epoch 015 train loss: 0.0246 valid loss 0.0274 train acc 0.9908 valid acc 0.9936\n",
      "LR =  0.00013793103448275863\n"
     ]
    },
    {
     "name": "stderr",
     "output_type": "stream",
     "text": [
      "epoch:  20%|██        | 16/80 [10:35<42:13, 39.59s/it]"
     ]
    },
    {
     "name": "stdout",
     "output_type": "stream",
     "text": [
      "\n",
      "Epoch 016 train loss: 0.0329 valid loss 0.0244 train acc 0.9894 valid acc 0.9928\n",
      "LR =  0.00012987012987012987\n"
     ]
    },
    {
     "name": "stderr",
     "output_type": "stream",
     "text": [
      "epoch:  21%|██▏       | 17/80 [11:15<41:32, 39.57s/it]"
     ]
    },
    {
     "name": "stdout",
     "output_type": "stream",
     "text": [
      "\n",
      "Epoch 017 train loss: 0.0250 valid loss 0.0233 train acc 0.9913 valid acc 0.9936\n",
      "LR =  0.0001226993865030675\n"
     ]
    },
    {
     "name": "stderr",
     "output_type": "stream",
     "text": [
      "epoch:  22%|██▎       | 18/80 [11:54<40:49, 39.51s/it]"
     ]
    },
    {
     "name": "stdout",
     "output_type": "stream",
     "text": [
      "\n",
      "Epoch 018 train loss: 0.0232 valid loss 0.0607 train acc 0.9928 valid acc 0.9840\n",
      "LR =  0.00011627906976744187\n"
     ]
    },
    {
     "name": "stderr",
     "output_type": "stream",
     "text": [
      "epoch:  24%|██▍       | 19/80 [12:34<40:12, 39.54s/it]"
     ]
    },
    {
     "name": "stdout",
     "output_type": "stream",
     "text": [
      "\n",
      "Epoch 019 train loss: 0.0261 valid loss 0.0205 train acc 0.9904 valid acc 0.9960\n",
      "LR =  0.00011049723756906077\n"
     ]
    },
    {
     "name": "stderr",
     "output_type": "stream",
     "text": [
      "epoch:  25%|██▌       | 20/80 [13:14<39:35, 39.60s/it]"
     ]
    },
    {
     "name": "stdout",
     "output_type": "stream",
     "text": [
      "\n",
      "Epoch 020 train loss: 0.0224 valid loss 0.0376 train acc 0.9938 valid acc 0.9904\n",
      "LR =  0.0002\n"
     ]
    },
    {
     "name": "stderr",
     "output_type": "stream",
     "text": [
      "epoch:  26%|██▋       | 21/80 [13:53<38:58, 39.64s/it]"
     ]
    },
    {
     "name": "stdout",
     "output_type": "stream",
     "text": [
      "\n",
      "Epoch 021 train loss: 0.0312 valid loss 0.0262 train acc 0.9896 valid acc 0.9952\n",
      "LR =  0.0001995\n"
     ]
    },
    {
     "name": "stderr",
     "output_type": "stream",
     "text": [
      "epoch:  28%|██▊       | 22/80 [14:33<38:15, 39.58s/it]"
     ]
    },
    {
     "name": "stdout",
     "output_type": "stream",
     "text": [
      "\n",
      "Epoch 022 train loss: 0.0309 valid loss 0.0230 train acc 0.9914 valid acc 0.9944\n",
      "LR =  0.000199\n"
     ]
    },
    {
     "name": "stderr",
     "output_type": "stream",
     "text": [
      "epoch:  29%|██▉       | 23/80 [15:12<37:34, 39.55s/it]"
     ]
    },
    {
     "name": "stdout",
     "output_type": "stream",
     "text": [
      "\n",
      "Epoch 023 train loss: 0.0223 valid loss 0.0314 train acc 0.9932 valid acc 0.9936\n",
      "LR =  0.0001985\n"
     ]
    },
    {
     "name": "stderr",
     "output_type": "stream",
     "text": [
      "epoch:  30%|███       | 24/80 [15:52<36:53, 39.53s/it]"
     ]
    },
    {
     "name": "stdout",
     "output_type": "stream",
     "text": [
      "\n",
      "Epoch 024 train loss: 0.0279 valid loss 0.0385 train acc 0.9914 valid acc 0.9944\n",
      "LR =  0.00019800000000000002\n"
     ]
    },
    {
     "name": "stderr",
     "output_type": "stream",
     "text": [
      "epoch:  31%|███▏      | 25/80 [16:31<36:14, 39.54s/it]"
     ]
    },
    {
     "name": "stdout",
     "output_type": "stream",
     "text": [
      "\n",
      "Epoch 025 train loss: 0.0239 valid loss 0.0192 train acc 0.9922 valid acc 0.9960\n",
      "LR =  0.0001975\n"
     ]
    },
    {
     "name": "stderr",
     "output_type": "stream",
     "text": [
      "epoch:  32%|███▎      | 26/80 [17:11<35:39, 39.61s/it]"
     ]
    },
    {
     "name": "stdout",
     "output_type": "stream",
     "text": [
      "\n",
      "Epoch 026 train loss: 0.0259 valid loss 0.0278 train acc 0.9920 valid acc 0.9952\n",
      "LR =  0.00019700000000000002\n"
     ]
    },
    {
     "name": "stderr",
     "output_type": "stream",
     "text": [
      "epoch:  34%|███▍      | 27/80 [17:51<34:56, 39.56s/it]"
     ]
    },
    {
     "name": "stdout",
     "output_type": "stream",
     "text": [
      "\n",
      "Epoch 027 train loss: 0.0192 valid loss 0.0211 train acc 0.9924 valid acc 0.9952\n",
      "LR =  0.0001965\n"
     ]
    },
    {
     "name": "stderr",
     "output_type": "stream",
     "text": [
      "epoch:  35%|███▌      | 28/80 [18:30<34:15, 39.53s/it]"
     ]
    },
    {
     "name": "stdout",
     "output_type": "stream",
     "text": [
      "\n",
      "Epoch 028 train loss: 0.0234 valid loss 0.0263 train acc 0.9928 valid acc 0.9952\n",
      "LR =  0.00019600000000000002\n"
     ]
    },
    {
     "name": "stderr",
     "output_type": "stream",
     "text": [
      "epoch:  36%|███▋      | 29/80 [19:10<33:36, 39.53s/it]"
     ]
    },
    {
     "name": "stdout",
     "output_type": "stream",
     "text": [
      "\n",
      "Epoch 029 train loss: 0.0258 valid loss 0.0209 train acc 0.9917 valid acc 0.9952\n",
      "LR =  0.0001955\n"
     ]
    },
    {
     "name": "stderr",
     "output_type": "stream",
     "text": [
      "epoch:  38%|███▊      | 30/80 [19:49<32:57, 39.55s/it]"
     ]
    },
    {
     "name": "stdout",
     "output_type": "stream",
     "text": [
      "\n",
      "Epoch 030 train loss: 0.0206 valid loss 0.0287 train acc 0.9929 valid acc 0.9944\n",
      "LR =  0.00019500000000000002\n"
     ]
    },
    {
     "name": "stderr",
     "output_type": "stream",
     "text": [
      "epoch:  39%|███▉      | 31/80 [20:29<32:17, 39.55s/it]"
     ]
    },
    {
     "name": "stdout",
     "output_type": "stream",
     "text": [
      "\n",
      "Epoch 031 train loss: 0.0176 valid loss 0.0274 train acc 0.9929 valid acc 0.9936\n",
      "LR =  0.0001945\n"
     ]
    },
    {
     "name": "stderr",
     "output_type": "stream",
     "text": [
      "epoch:  40%|████      | 32/80 [21:08<31:38, 39.56s/it]"
     ]
    },
    {
     "name": "stdout",
     "output_type": "stream",
     "text": [
      "\n",
      "Epoch 032 train loss: 0.0225 valid loss 0.0216 train acc 0.9927 valid acc 0.9912\n",
      "LR =  0.000194\n"
     ]
    },
    {
     "name": "stderr",
     "output_type": "stream",
     "text": [
      "epoch:  41%|████▏     | 33/80 [21:48<31:00, 39.59s/it]"
     ]
    },
    {
     "name": "stdout",
     "output_type": "stream",
     "text": [
      "\n",
      "Epoch 033 train loss: 0.0249 valid loss 0.0398 train acc 0.9918 valid acc 0.9928\n",
      "LR =  0.00019350000000000001\n"
     ]
    },
    {
     "name": "stderr",
     "output_type": "stream",
     "text": [
      "epoch:  42%|████▎     | 34/80 [22:28<30:21, 39.59s/it]"
     ]
    },
    {
     "name": "stdout",
     "output_type": "stream",
     "text": [
      "\n",
      "Epoch 034 train loss: 0.0168 valid loss 0.0499 train acc 0.9952 valid acc 0.9928\n",
      "LR =  0.000193\n"
     ]
    },
    {
     "name": "stderr",
     "output_type": "stream",
     "text": [
      "epoch:  44%|████▍     | 35/80 [23:07<29:40, 39.56s/it]"
     ]
    },
    {
     "name": "stdout",
     "output_type": "stream",
     "text": [
      "\n",
      "Epoch 035 train loss: 0.0178 valid loss 0.0237 train acc 0.9938 valid acc 0.9952\n",
      "LR =  0.00019250000000000002\n"
     ]
    },
    {
     "name": "stderr",
     "output_type": "stream",
     "text": [
      "epoch:  45%|████▌     | 36/80 [23:46<28:59, 39.52s/it]"
     ]
    },
    {
     "name": "stdout",
     "output_type": "stream",
     "text": [
      "\n",
      "Epoch 036 train loss: 0.0218 valid loss 0.0195 train acc 0.9928 valid acc 0.9944\n",
      "LR =  0.000192\n"
     ]
    },
    {
     "name": "stderr",
     "output_type": "stream",
     "text": [
      "epoch:  46%|████▋     | 37/80 [24:26<28:21, 39.57s/it]"
     ]
    },
    {
     "name": "stdout",
     "output_type": "stream",
     "text": [
      "\n",
      "Epoch 037 train loss: 0.0180 valid loss 0.0148 train acc 0.9942 valid acc 0.9952\n",
      "LR =  0.00019150000000000002\n"
     ]
    },
    {
     "name": "stderr",
     "output_type": "stream",
     "text": [
      "epoch:  48%|████▊     | 38/80 [25:06<27:44, 39.63s/it]"
     ]
    },
    {
     "name": "stdout",
     "output_type": "stream",
     "text": [
      "\n",
      "Epoch 038 train loss: 0.0162 valid loss 0.0274 train acc 0.9959 valid acc 0.9960\n",
      "LR =  0.000191\n"
     ]
    },
    {
     "name": "stderr",
     "output_type": "stream",
     "text": [
      "epoch:  49%|████▉     | 39/80 [25:46<27:06, 39.68s/it]"
     ]
    },
    {
     "name": "stdout",
     "output_type": "stream",
     "text": [
      "\n",
      "Epoch 039 train loss: 0.0167 valid loss 0.0100 train acc 0.9945 valid acc 0.9944\n",
      "LR =  0.00019050000000000002\n"
     ]
    },
    {
     "name": "stderr",
     "output_type": "stream",
     "text": [
      "epoch:  50%|█████     | 40/80 [26:26<26:37, 39.93s/it]"
     ]
    },
    {
     "name": "stdout",
     "output_type": "stream",
     "text": [
      "\n",
      "Epoch 040 train loss: 0.0200 valid loss 0.0090 train acc 0.9939 valid acc 0.9976\n",
      "LR =  0.00019\n"
     ]
    },
    {
     "name": "stderr",
     "output_type": "stream",
     "text": [
      "epoch:  51%|█████▏    | 41/80 [27:06<25:58, 39.97s/it]"
     ]
    },
    {
     "name": "stdout",
     "output_type": "stream",
     "text": [
      "\n",
      "Epoch 041 train loss: 0.0112 valid loss 0.0356 train acc 0.9958 valid acc 0.9960\n",
      "LR =  0.0001895\n"
     ]
    },
    {
     "name": "stderr",
     "output_type": "stream",
     "text": [
      "epoch:  52%|█████▎    | 42/80 [27:46<25:18, 39.95s/it]"
     ]
    },
    {
     "name": "stdout",
     "output_type": "stream",
     "text": [
      "\n",
      "Epoch 042 train loss: 0.0172 valid loss 0.0096 train acc 0.9948 valid acc 0.9960\n",
      "LR =  0.000189\n"
     ]
    },
    {
     "name": "stderr",
     "output_type": "stream",
     "text": [
      "epoch:  54%|█████▍    | 43/80 [28:26<24:37, 39.93s/it]"
     ]
    },
    {
     "name": "stdout",
     "output_type": "stream",
     "text": [
      "\n",
      "Epoch 043 train loss: 0.0134 valid loss 0.0169 train acc 0.9949 valid acc 0.9944\n",
      "LR =  0.0001885\n"
     ]
    },
    {
     "name": "stderr",
     "output_type": "stream",
     "text": [
      "epoch:  55%|█████▌    | 44/80 [29:06<23:52, 39.79s/it]"
     ]
    },
    {
     "name": "stdout",
     "output_type": "stream",
     "text": [
      "\n",
      "Epoch 044 train loss: 0.0148 valid loss 0.0168 train acc 0.9948 valid acc 0.9936\n",
      "LR =  0.00018800000000000002\n"
     ]
    },
    {
     "name": "stderr",
     "output_type": "stream",
     "text": [
      "epoch:  56%|█████▋    | 45/80 [29:45<23:07, 39.66s/it]"
     ]
    },
    {
     "name": "stdout",
     "output_type": "stream",
     "text": [
      "\n",
      "Epoch 045 train loss: 0.0190 valid loss 0.0104 train acc 0.9935 valid acc 0.9976\n",
      "LR =  0.0001875\n"
     ]
    },
    {
     "name": "stderr",
     "output_type": "stream",
     "text": [
      "epoch:  57%|█████▊    | 46/80 [30:25<22:28, 39.67s/it]"
     ]
    },
    {
     "name": "stdout",
     "output_type": "stream",
     "text": [
      "\n",
      "Epoch 046 train loss: 0.0133 valid loss 0.0104 train acc 0.9949 valid acc 0.9968\n",
      "LR =  0.00018700000000000002\n"
     ]
    },
    {
     "name": "stderr",
     "output_type": "stream",
     "text": [
      "epoch:  59%|█████▉    | 47/80 [31:04<21:47, 39.62s/it]"
     ]
    },
    {
     "name": "stdout",
     "output_type": "stream",
     "text": [
      "\n",
      "Epoch 047 train loss: 0.0111 valid loss 0.0614 train acc 0.9959 valid acc 0.9824\n",
      "LR =  0.0001865\n"
     ]
    },
    {
     "name": "stderr",
     "output_type": "stream",
     "text": [
      "epoch:  60%|██████    | 48/80 [31:44<21:07, 39.62s/it]"
     ]
    },
    {
     "name": "stdout",
     "output_type": "stream",
     "text": [
      "\n",
      "Epoch 048 train loss: 0.0129 valid loss 0.0232 train acc 0.9948 valid acc 0.9960\n",
      "LR =  0.00018600000000000002\n"
     ]
    },
    {
     "name": "stderr",
     "output_type": "stream",
     "text": [
      "epoch:  61%|██████▏   | 49/80 [32:24<20:30, 39.68s/it]"
     ]
    },
    {
     "name": "stdout",
     "output_type": "stream",
     "text": [
      "\n",
      "Epoch 049 train loss: 0.0169 valid loss 0.0217 train acc 0.9946 valid acc 0.9960\n",
      "LR =  0.0001855\n"
     ]
    },
    {
     "name": "stderr",
     "output_type": "stream",
     "text": [
      "epoch:  62%|██████▎   | 50/80 [33:03<19:50, 39.67s/it]"
     ]
    },
    {
     "name": "stdout",
     "output_type": "stream",
     "text": [
      "\n",
      "Epoch 050 train loss: 0.0134 valid loss 0.0321 train acc 0.9955 valid acc 0.9968\n",
      "LR =  0.000185\n"
     ]
    },
    {
     "name": "stderr",
     "output_type": "stream",
     "text": [
      "epoch:  64%|██████▍   | 51/80 [33:43<19:10, 39.67s/it]"
     ]
    },
    {
     "name": "stdout",
     "output_type": "stream",
     "text": [
      "\n",
      "Epoch 051 train loss: 0.0141 valid loss 0.0168 train acc 0.9948 valid acc 0.9944\n",
      "LR =  0.0001845\n"
     ]
    },
    {
     "name": "stderr",
     "output_type": "stream",
     "text": [
      "epoch:  65%|██████▌   | 52/80 [34:22<18:29, 39.63s/it]"
     ]
    },
    {
     "name": "stdout",
     "output_type": "stream",
     "text": [
      "\n",
      "Epoch 052 train loss: 0.0156 valid loss 0.0068 train acc 0.9944 valid acc 0.9976\n",
      "LR =  0.000184\n"
     ]
    },
    {
     "name": "stderr",
     "output_type": "stream",
     "text": [
      "epoch:  66%|██████▋   | 53/80 [35:02<17:50, 39.64s/it]"
     ]
    },
    {
     "name": "stdout",
     "output_type": "stream",
     "text": [
      "\n",
      "Epoch 053 train loss: 0.0122 valid loss 0.0244 train acc 0.9963 valid acc 0.9936\n",
      "LR =  0.00018350000000000002\n"
     ]
    },
    {
     "name": "stderr",
     "output_type": "stream",
     "text": [
      "epoch:  68%|██████▊   | 54/80 [35:42<17:09, 39.61s/it]"
     ]
    },
    {
     "name": "stdout",
     "output_type": "stream",
     "text": [
      "\n",
      "Epoch 054 train loss: 0.0130 valid loss 0.0098 train acc 0.9965 valid acc 0.9960\n",
      "LR =  0.000183\n"
     ]
    },
    {
     "name": "stderr",
     "output_type": "stream",
     "text": [
      "epoch:  69%|██████▉   | 55/80 [36:22<16:33, 39.74s/it]"
     ]
    },
    {
     "name": "stdout",
     "output_type": "stream",
     "text": [
      "\n",
      "Epoch 055 train loss: 0.0114 valid loss 0.0157 train acc 0.9969 valid acc 0.9952\n",
      "LR =  0.00018250000000000002\n"
     ]
    },
    {
     "name": "stderr",
     "output_type": "stream",
     "text": [
      "epoch:  70%|███████   | 56/80 [37:01<15:51, 39.66s/it]"
     ]
    },
    {
     "name": "stdout",
     "output_type": "stream",
     "text": [
      "\n",
      "Epoch 056 train loss: 0.0141 valid loss 0.0161 train acc 0.9951 valid acc 0.9944\n",
      "LR =  0.000182\n"
     ]
    },
    {
     "name": "stderr",
     "output_type": "stream",
     "text": [
      "epoch:  71%|███████▏  | 57/80 [37:41<15:11, 39.63s/it]"
     ]
    },
    {
     "name": "stdout",
     "output_type": "stream",
     "text": [
      "\n",
      "Epoch 057 train loss: 0.0111 valid loss 0.0350 train acc 0.9965 valid acc 0.9880\n",
      "LR =  0.00018150000000000002\n"
     ]
    },
    {
     "name": "stderr",
     "output_type": "stream",
     "text": [
      "epoch:  72%|███████▎  | 58/80 [38:21<14:33, 39.69s/it]"
     ]
    },
    {
     "name": "stdout",
     "output_type": "stream",
     "text": [
      "\n",
      "Epoch 058 train loss: 0.0092 valid loss 0.0050 train acc 0.9976 valid acc 0.9984\n",
      "LR =  0.000181\n"
     ]
    },
    {
     "name": "stderr",
     "output_type": "stream",
     "text": [
      "epoch:  74%|███████▍  | 59/80 [39:00<13:53, 39.67s/it]"
     ]
    },
    {
     "name": "stdout",
     "output_type": "stream",
     "text": [
      "\n",
      "Epoch 059 train loss: 0.0113 valid loss 0.0144 train acc 0.9972 valid acc 0.9952\n",
      "LR =  0.0001805\n"
     ]
    },
    {
     "name": "stderr",
     "output_type": "stream",
     "text": [
      "epoch:  75%|███████▌  | 60/80 [39:40<13:14, 39.74s/it]"
     ]
    },
    {
     "name": "stdout",
     "output_type": "stream",
     "text": [
      "\n",
      "Epoch 060 train loss: 0.0103 valid loss 0.0084 train acc 0.9973 valid acc 0.9952\n",
      "LR =  0.00018\n"
     ]
    },
    {
     "name": "stderr",
     "output_type": "stream",
     "text": [
      "epoch:  76%|███████▋  | 61/80 [40:20<12:33, 39.67s/it]"
     ]
    },
    {
     "name": "stdout",
     "output_type": "stream",
     "text": [
      "\n",
      "Epoch 061 train loss: 0.0064 valid loss 0.0011 train acc 0.9977 valid acc 1.0000\n",
      "LR =  0.0001795\n"
     ]
    },
    {
     "name": "stderr",
     "output_type": "stream",
     "text": [
      "epoch:  78%|███████▊  | 62/80 [40:59<11:54, 39.68s/it]"
     ]
    },
    {
     "name": "stdout",
     "output_type": "stream",
     "text": [
      "\n",
      "Epoch 062 train loss: 0.0122 valid loss 0.0117 train acc 0.9959 valid acc 0.9952\n",
      "LR =  0.00017900000000000001\n"
     ]
    },
    {
     "name": "stderr",
     "output_type": "stream",
     "text": [
      "epoch:  79%|███████▉  | 63/80 [41:39<11:15, 39.72s/it]"
     ]
    },
    {
     "name": "stdout",
     "output_type": "stream",
     "text": [
      "\n",
      "Epoch 063 train loss: 0.0118 valid loss 0.0045 train acc 0.9962 valid acc 0.9984\n",
      "LR =  0.0001785\n"
     ]
    },
    {
     "name": "stderr",
     "output_type": "stream",
     "text": [
      "epoch:  80%|████████  | 64/80 [42:19<10:35, 39.69s/it]"
     ]
    },
    {
     "name": "stdout",
     "output_type": "stream",
     "text": [
      "\n",
      "Epoch 064 train loss: 0.0136 valid loss 0.0269 train acc 0.9948 valid acc 0.9960\n",
      "LR =  0.00017800000000000002\n"
     ]
    },
    {
     "name": "stderr",
     "output_type": "stream",
     "text": [
      "epoch:  81%|████████▏ | 65/80 [42:58<09:54, 39.65s/it]"
     ]
    },
    {
     "name": "stdout",
     "output_type": "stream",
     "text": [
      "\n",
      "Epoch 065 train loss: 0.0134 valid loss 0.0162 train acc 0.9955 valid acc 0.9944\n",
      "LR =  0.0001775\n"
     ]
    },
    {
     "name": "stderr",
     "output_type": "stream",
     "text": [
      "epoch:  82%|████████▎ | 66/80 [43:38<09:15, 39.66s/it]"
     ]
    },
    {
     "name": "stdout",
     "output_type": "stream",
     "text": [
      "\n",
      "Epoch 066 train loss: 0.0075 valid loss 0.0055 train acc 0.9966 valid acc 0.9984\n",
      "LR =  0.00017700000000000002\n"
     ]
    },
    {
     "name": "stderr",
     "output_type": "stream",
     "text": [
      "epoch:  84%|████████▍ | 67/80 [44:17<08:34, 39.61s/it]"
     ]
    },
    {
     "name": "stdout",
     "output_type": "stream",
     "text": [
      "\n",
      "Epoch 067 train loss: 0.0078 valid loss 0.0132 train acc 0.9972 valid acc 0.9976\n",
      "LR =  0.0001765\n"
     ]
    },
    {
     "name": "stderr",
     "output_type": "stream",
     "text": [
      "epoch:  85%|████████▌ | 68/80 [44:57<07:55, 39.59s/it]"
     ]
    },
    {
     "name": "stdout",
     "output_type": "stream",
     "text": [
      "\n",
      "Epoch 068 train loss: 0.0083 valid loss 0.0084 train acc 0.9973 valid acc 0.9960\n",
      "LR =  0.000176\n"
     ]
    },
    {
     "name": "stderr",
     "output_type": "stream",
     "text": [
      "epoch:  86%|████████▋ | 69/80 [45:36<07:15, 39.58s/it]"
     ]
    },
    {
     "name": "stdout",
     "output_type": "stream",
     "text": [
      "\n",
      "Epoch 069 train loss: 0.0083 valid loss 0.0086 train acc 0.9975 valid acc 0.9984\n",
      "LR =  0.0001755\n"
     ]
    },
    {
     "name": "stderr",
     "output_type": "stream",
     "text": [
      "epoch:  88%|████████▊ | 70/80 [46:16<06:35, 39.51s/it]"
     ]
    },
    {
     "name": "stdout",
     "output_type": "stream",
     "text": [
      "\n",
      "Epoch 070 train loss: 0.0159 valid loss 0.0089 train acc 0.9946 valid acc 0.9968\n",
      "LR =  0.00017500000000000003\n"
     ]
    },
    {
     "name": "stderr",
     "output_type": "stream",
     "text": [
      "epoch:  89%|████████▉ | 71/80 [46:56<05:56, 39.56s/it]"
     ]
    },
    {
     "name": "stdout",
     "output_type": "stream",
     "text": [
      "\n",
      "Epoch 071 train loss: 0.0126 valid loss 0.0016 train acc 0.9961 valid acc 1.0000\n",
      "LR =  0.0001745\n"
     ]
    },
    {
     "name": "stderr",
     "output_type": "stream",
     "text": [
      "epoch:  90%|█████████ | 72/80 [47:35<05:15, 39.50s/it]"
     ]
    },
    {
     "name": "stdout",
     "output_type": "stream",
     "text": [
      "\n",
      "Epoch 072 train loss: 0.0106 valid loss 0.0043 train acc 0.9968 valid acc 0.9984\n",
      "LR =  0.000174\n"
     ]
    },
    {
     "name": "stderr",
     "output_type": "stream",
     "text": [
      "epoch:  91%|█████████▏| 73/80 [48:14<04:36, 39.50s/it]"
     ]
    },
    {
     "name": "stdout",
     "output_type": "stream",
     "text": [
      "\n",
      "Epoch 073 train loss: 0.0086 valid loss 0.0029 train acc 0.9973 valid acc 1.0000\n",
      "LR =  0.00017350000000000002\n"
     ]
    },
    {
     "name": "stderr",
     "output_type": "stream",
     "text": [
      "epoch:  92%|█████████▎| 74/80 [48:54<03:56, 39.49s/it]"
     ]
    },
    {
     "name": "stdout",
     "output_type": "stream",
     "text": [
      "\n",
      "Epoch 074 train loss: 0.0096 valid loss 0.0055 train acc 0.9972 valid acc 0.9992\n",
      "LR =  0.000173\n"
     ]
    },
    {
     "name": "stderr",
     "output_type": "stream",
     "text": [
      "epoch:  94%|█████████▍| 75/80 [49:33<03:17, 39.47s/it]"
     ]
    },
    {
     "name": "stdout",
     "output_type": "stream",
     "text": [
      "\n",
      "Epoch 075 train loss: 0.0105 valid loss 0.0096 train acc 0.9962 valid acc 0.9976\n",
      "LR =  0.00017250000000000002\n"
     ]
    },
    {
     "name": "stderr",
     "output_type": "stream",
     "text": [
      "epoch:  95%|█████████▌| 76/80 [50:13<02:37, 39.44s/it]"
     ]
    },
    {
     "name": "stdout",
     "output_type": "stream",
     "text": [
      "\n",
      "Epoch 076 train loss: 0.0156 valid loss 0.0091 train acc 0.9959 valid acc 0.9976\n",
      "LR =  0.000172\n"
     ]
    },
    {
     "name": "stderr",
     "output_type": "stream",
     "text": [
      "epoch:  96%|█████████▋| 77/80 [50:52<01:58, 39.47s/it]"
     ]
    },
    {
     "name": "stdout",
     "output_type": "stream",
     "text": [
      "\n",
      "Epoch 077 train loss: 0.0090 valid loss 0.0064 train acc 0.9965 valid acc 0.9968\n",
      "LR =  0.00017150000000000002\n"
     ]
    },
    {
     "name": "stderr",
     "output_type": "stream",
     "text": [
      "epoch:  98%|█████████▊| 78/80 [51:32<01:18, 39.46s/it]"
     ]
    },
    {
     "name": "stdout",
     "output_type": "stream",
     "text": [
      "\n",
      "Epoch 078 train loss: 0.0104 valid loss 0.0098 train acc 0.9965 valid acc 0.9976\n",
      "LR =  0.000171\n"
     ]
    },
    {
     "name": "stderr",
     "output_type": "stream",
     "text": [
      "epoch:  99%|█████████▉| 79/80 [52:11<00:39, 39.51s/it]"
     ]
    },
    {
     "name": "stdout",
     "output_type": "stream",
     "text": [
      "\n",
      "Epoch 079 train loss: 0.0120 valid loss 0.0113 train acc 0.9968 valid acc 0.9984\n",
      "LR =  0.00017050000000000002\n"
     ]
    },
    {
     "name": "stderr",
     "output_type": "stream",
     "text": [
      "epoch: 100%|██████████| 80/80 [52:51<00:00, 39.64s/it]\n"
     ]
    },
    {
     "name": "stdout",
     "output_type": "stream",
     "text": [
      "\n",
      "Epoch 080 train loss: 0.0047 valid loss 0.0040 train acc 0.9982 valid acc 0.9984\n"
     ]
    },
    {
     "data": {
      "image/png": "[encoded data removed]",
      "text/plain": [
       "<Figure size 648x504 with 1 Axes>"
      ]
     },
     "metadata": {},
     "output_type": "display_data"
    },
    {
     "data": {
      "image/png": "[encoded data removed]",
      "text/plain": [
       "<Figure size 648x504 with 1 Axes>"
      ]
     },
     "metadata": {},
     "output_type": "display_data"
    }
   ],
   "source": [
    "SAVE_DIR = './mobilenetv2_80_'\n",
    "schedule = default_lr_schedule()\n",
    "# тренируем сеть на основе MobileNet v2 с количеством классов = 2 batch_size = 128\n",
    "# в течении 80 эпох постепенно уменьшая LR\n",
    "model = TrainClassifier(2, batch_size = 128)\n",
    "model.with_epochs(80).with_optimizer('adam', lr_schedule = schedule).with_graph()\n",
    "model.do_fit(train_dataset, val_dataset, enable_tqdm=True).display_all()\n",
    "# сохраняем словарь нейросети на диске\n",
    "model.save_dict(SAVE_DIR+'1')"
   ]
  },
  {
   "cell_type": "code",
   "execution_count": 11,
   "metadata": {},
   "outputs": [
    {
     "name": "stdout",
     "output_type": "stream",
     "text": [
      "evaluation loss/acc:  0.00023429394059348851 1.0\n"
     ]
    }
   ],
   "source": [
    "#делаем независимую проверку точности на тестовом датасете\n",
    "model.do_evaluate(test_dataset);"
   ]
  },
  {
   "cell_type": "code",
   "execution_count": 13,
   "metadata": {},
   "outputs": [],
   "source": [
    "# функции для использования в чат-боте\n",
    "import numpy as np\n",
    "import torch\n",
    "from torch import nn\n",
    "from torchvision.models import mobilenet_v2\n",
    "MODEL = None\n",
    "RESCALE_SIZE = 224\n",
    "\n",
    "\n",
    "def get_model(n_outputs = 2):\n",
    "    simple_cnn = mobilenet_v2(pretrained=False)\n",
    "    simple_cnn.classifier = nn.Sequential(\n",
    "        nn.Dropout(0.2),\n",
    "        nn.BatchNorm1d(1280),\n",
    "        nn.Linear(1280, n_outputs, bias=True))\n",
    "    return simple_cnn\n",
    "\n",
    "\n",
    "def load_state_dict(neuralnet, name):\n",
    "    neuralnet.load_state_dict(torch.load(name))\n",
    "    return neuralnet\n",
    "\n",
    "\n",
    "def predict_one_sample(model, inputs, device=DEVICE):\n",
    "    \"\"\"Предсказание, для одной картинки\"\"\"\n",
    "    with torch.no_grad():\n",
    "        model.eval()\n",
    "        logit = model(inputs).cpu()\n",
    "        probs = torch.nn.functional.softmax(logit, dim=-1).numpy()\n",
    "    return probs\n",
    "\n",
    "\n",
    "def get_image(img_name):\n",
    "    # для преобразования изображений в тензоры PyTorch и нормализации входа\n",
    "    transform = transforms.Compose([\n",
    "        transforms.ToTensor(),\n",
    "        transforms.Normalize([0.485, 0.456, 0.406], [0.229, 0.224, 0.225]) \n",
    "    ])\n",
    "    image = Image.open(img_name)\n",
    "    image.load()\n",
    "    x = np.array(image.resize((RESCALE_SIZE, RESCALE_SIZE)))\n",
    "    x = np.array(x / 255, dtype='float32')\n",
    "    x = transform(x)\n",
    "    return x\n"
   ]
  },
  {
   "cell_type": "code",
   "execution_count": 20,
   "metadata": {},
   "outputs": [
    {
     "name": "stdout",
     "output_type": "stream",
     "text": [
      "[[0.0038044 0.9961957]]\n",
      "1 defect\n",
      "0 asphalt\n"
     ]
    }
   ],
   "source": [
    "# код для использования в чат-боте\n",
    "if MODEL is None:\n",
    "    model = mobilenetv2()\n",
    "    load_state_dict(model, './mobilenetv2_80_1.dict')\n",
    "    MODEL = model\n",
    "    \n",
    "\n",
    "label_encoder = pickle.load(open(\"label_encoder.pkl\", 'rb'))\n",
    "img = get_image('./yama.jpg')\n",
    "prob_pred = predict_one_sample(MODEL, img[None,...])\n",
    "print(prob_pred)\n",
    "y_pred = np.argmax(prob_pred)\n",
    "predicted_label = label_encoder.classes_[y_pred]\n",
    "print(predicted_label, 'asphalt' if predicted_label == '0' else 'defect')\n",
    "img = get_image('./none.jpg')\n",
    "prob_pred = predict_one_sample(MODEL, img[None,...])\n",
    "y_pred = np.argmax(prob_pred)\n",
    "predicted_label = label_encoder.classes_[y_pred]\n",
    "print(predicted_label, 'asphalt' if predicted_label == '0' else 'defect')\n",
    "\n"
   ]
  },
  {
   "cell_type": "code",
   "execution_count": null,
   "metadata": {},
   "outputs": [],
   "source": []
  },
  {
   "cell_type": "code",
   "execution_count": null,
   "metadata": {},
   "outputs": [],
   "source": []
  }
 ],
 "metadata": {
  "kernelspec": {
   "display_name": "Python 3",
   "language": "python",
   "name": "python3"
  },
  "language_info": {
   "codemirror_mode": {
    "name": "ipython",
    "version": 3
   },
   "file_extension": ".py",
   "mimetype": "text/x-python",
   "name": "python",
   "nbconvert_exporter": "python",
   "pygments_lexer": "ipython3",
   "version": "3.7.3"
  }
 },
 "nbformat": 4,
 "nbformat_minor": 2
}
